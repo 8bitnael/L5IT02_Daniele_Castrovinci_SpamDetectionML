# Assignment: L05IT02 
# TASK: SPAM DETECTION using TENSORFLOW and AI Machine Learning
# Learner: DANIELE CASTROVINCI
import pandas as pd  # Importing necessary libraries pandas
from sklearn.model_selection import train_test_split # train_test_split for data splitting
from sklearn.feature_extraction.text import CountVectorizer # CountVectorizer for text preprocessing,
from sklearn.naive_bayes import MultinomialNB # MultinomialNB for the Naive Bayes classifier.
data = pd.read_csv("spamDetect.csv")# Loading the Dataset: Reads a CSV file into a Pandas DataFrame
# Preprocessing del dataset
X = data['Message'] # Extracts the 'Message' column as the feature (X)
y = data['Category'] # Extracts the 'Category' column as the target (y).
vectorizer = CountVectorizer() # CountVectorizer to convert the text data into a matrix of token counts (X_vectorized).
X_vectorized = vectorizer.fit_transform(X)
# Division of dataset in training e test set
X_train, X_test, y_train, y_test = train_test_split(X_vectorized, y, test_size=0.2, random_state=42)
# Train the model
clf = MultinomialNB() # Instantiates a Multinomial Naive Bayes classifier
clf.fit(X_train, y_train) # trains it on the training data (X_train, y_train)
# Define a function to process messages
def classify_message(new_message):
    # Preprocesses the new message using the same CountVectorizer to convert it into a vectorized format
    new_message_vectorized = vectorizer.transform([new_message])
    # Predicts whether the new message is 'spam' or 'ham' using the trained classifier
    prediction = clf.predict(new_message_vectorized)
    #Print result
    if prediction[0] == 'ham':
        print("Not spam (is ham).")
    else:
        print("Attention, message is spam.")
        
# Send Messages
classify_message("Hello Daniele Castrovinci! Just wanted to follow up on our conversation from yesterday. Let's catch up for coffee sometime this week if you're free. Have a great day!")
classify_message("Congratulations! You've won a free cruise vacation! Click here to claim your prize now. Limited time offer! Don't miss out!")
classify_message("URGENT: Your account has been compromised! Click this link now to secure your account and prevent data loss. Act fast to avoid further issues!")