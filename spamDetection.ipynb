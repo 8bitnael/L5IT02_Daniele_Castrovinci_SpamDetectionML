# Assignment: L05IT02 
# TASK SPAM DETECTION using TENSORFLOW and Artificial Intelligence -Machine Learning
# Learner: DANIELE CASTROVINCI
import pandas as pd  # Importing necessary libraries pandas
from sklearn.model_selection import train_test_split #, train_test_split for data splitting
from sklearn.feature_extraction.text import CountVectorizer #, CountVectorizer for text preprocessing,
from sklearn.naive_bayes import MultinomialNB #   MultinomialNB for the Naive Bayes classifier.
data = pd.read_csv("spamDetect.csv") # Loading the Dataset: Reads a CSV file into a Pandas DataFrame named data
# Preprocessing del dataset
X = data['Message'] #Extracts the 'Message' column as the feature (X)
y = data['Category'] # and the 'Category' column as the target (y).
vectorizer = CountVectorizer()
X_vectorized = vectorizer.fit_transform(X)
# Divisione del dataset in training e test set
X_train, X_test, y_train, y_test = train_test_split(X_vectorized, y, test_size=0.2, random_state=42)
# Addestramento del modello
clf = MultinomialNB()
clf.fit(X_train, y_train)
# Messaggio fittizio da verificare
new_message = "🎉 Congratulazioni! Hai vinto un premio straordinario! Clicca qui per riscattare il tuo premio esclusivo! Offerta limitata, non perdere questa opportunità! 🎁🌟"
# Preprocessamento del nuovo messaggio
new_message_vectorized = vectorizer.transform([new_message])
# Previsto il tipo di messaggio (spam o ham)
prediction = clf.predict(new_message_vectorized)
# Stampa della previsione
if prediction[0] == 'ham': print("Message != spam (is ham).")
else: print("Attention, The Message is spam.")